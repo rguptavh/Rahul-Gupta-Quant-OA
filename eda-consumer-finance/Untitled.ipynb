{
 "cells": [
  {
   "cell_type": "code",
   "execution_count": 6,
   "metadata": {},
   "outputs": [],
   "source": [
    "import pandas as pd\n",
    "import numpy as np\n",
    "from sklearn import preprocessing\n",
    "import matplotlib.pyplot as plt \n",
    "import nltk"
   ]
  }
 ],
 "metadata": {
  "language_info": {
   "name": "python",
   "version": "3.8.10"
  },
  "kernelspec": {
   "name": "python3",
   "display_name": "Python 3.8.10 64-bit"
  },
  "interpreter": {
   "hash": "00cff2e458d0dbb9998537a132350fe06f3ce53c6aae59644f791b79aae1aae5"
  }
 },
 "nbformat": 4,
 "nbformat_minor": 4
}